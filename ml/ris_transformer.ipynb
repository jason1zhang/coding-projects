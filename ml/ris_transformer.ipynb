{
 "cells": [
  {
   "cell_type": "markdown",
   "id": "f2a66ea8-21b7-47c2-b3ce-290bd84b53fa",
   "metadata": {},
   "source": [
    "# Use Transformer model to classify Iris data"
   ]
  },
  {
   "cell_type": "code",
   "execution_count": 23,
   "id": "60eb42aa-b042-4f03-aa2e-b6e7913720c5",
   "metadata": {},
   "outputs": [],
   "source": [
    "import torch\n",
    "import torch.nn as nn\n",
    "import torch.optim as optim\n",
    "from torch.utils.data import DataLoader, TensorDataset\n",
    "from sklearn.datasets import load_iris\n",
    "from sklearn.model_selection import train_test_split\n",
    "from sklearn.preprocessing import StandardScaler\n",
    "import numpy as np\n",
    "import warnings\n",
    "warnings.filterwarnings(\"ignore\", category=UserWarning, message=\"enable_nested_tensor is True.*\")"
   ]
  },
  {
   "cell_type": "code",
   "execution_count": 24,
   "id": "0a2c6b6a-3761-40ee-856d-8611692dcd23",
   "metadata": {},
   "outputs": [],
   "source": [
    "# Data load and process\n",
    "iris = load_iris()\n",
    "X = iris['data']\n",
    "y = iris['target']\n",
    "\n",
    "scaler = StandardScaler()\n",
    "X_scaled = scaler.fit_transform(X)\n",
    "\n",
    "X_train, X_test, y_train, y_test = train_test_split(X_scaled, y, test_size=0.3, random_state=42)\n",
    "\n",
    "# Convert to tensor\n",
    "X_train = torch.FloatTensor(X_train)\n",
    "X_test = torch.FloatTensor(X_test)\n",
    "y_train = torch.LongTensor(y_train)\n",
    "y_test = torch.LongTensor(y_test)\n",
    "\n",
    "# Create DataLoader\n",
    "train_dataset = TensorDataset(X_train, y_train)\n",
    "test_dataset = TensorDataset(X_test, y_test)\n",
    "train_loader = DataLoader(train_dataset, batch_size=16, shuffle=True)\n",
    "test_loader = DataLoader(test_dataset, batch_size=16, shuffle=False)"
   ]
  },
  {
   "cell_type": "code",
   "execution_count": 25,
   "id": "c8ad649c-f749-4178-9af7-552432b044a6",
   "metadata": {},
   "outputs": [],
   "source": [
    "class TransformerModel(nn.Module):\n",
    "    def __init__(self, input_dim, num_classes, dim_feedforward=512, nhead=4, num_layers=1, dropout=0.5):\n",
    "        super(TransformerModel, self).__init__()\n",
    "        self.input_embedding = nn.Linear(input_dim, dim_feedforward)\n",
    "        self.pos_encoder = nn.Parameter(torch.zeros(dim_feedforward))\n",
    "        transformer_layer = nn.TransformerEncoderLayer(d_model=dim_feedforward, nhead=nhead, dropout=dropout)\n",
    "        self.transformer_encoder = nn.TransformerEncoder(transformer_layer, num_layers=num_layers)\n",
    "        self.fc_out = nn.Linear(dim_feedforward, num_classes)\n",
    "    \n",
    "    def forward(self, x):\n",
    "        x = self.input_embedding(x) + self.pos_encoder\n",
    "        x = x.unsqueeze(1)  # increase 1 dimension to conform to the expected data input of Transformer\n",
    "        x = self.transformer_encoder(x)\n",
    "        x = x.squeeze(1)  # undo 1 dimension added before\n",
    "        x = self.fc_out(x)\n",
    "        return x"
   ]
  },
  {
   "cell_type": "code",
   "execution_count": 26,
   "id": "84f2a3b9-e085-48b1-861a-adf02c494914",
   "metadata": {},
   "outputs": [],
   "source": [
    "model = TransformerModel(input_dim=4, num_classes=3)\n",
    "criterion = nn.CrossEntropyLoss()\n",
    "optimizer = optim.Adam(model.parameters(), lr=0.001)"
   ]
  },
  {
   "cell_type": "code",
   "execution_count": 27,
   "id": "5ee154e8-d66c-4bdb-bd6f-d67dd3d08314",
   "metadata": {},
   "outputs": [],
   "source": [
    "# 训练模型\n",
    "def train_epoch(model, train_loader, criterion, optimizer):\n",
    "    model.train()\n",
    "    total_loss = 0\n",
    "    for data, targets in train_loader:\n",
    "        optimizer.zero_grad()\n",
    "        outputs = model(data)\n",
    "        loss = criterion(outputs, targets)\n",
    "        loss.backward()\n",
    "        optimizer.step()\n",
    "        total_loss += loss.item()\n",
    "    return total_loss / len(train_loader)"
   ]
  },
  {
   "cell_type": "code",
   "execution_count": 28,
   "id": "c9fc49a3-1aa7-4cef-a670-821db915be55",
   "metadata": {},
   "outputs": [],
   "source": [
    "# 测试模型\n",
    "def evaluate(model, test_loader):\n",
    "    model.eval()\n",
    "    correct = total = 0\n",
    "    with torch.no_grad():\n",
    "        for data, targets in test_loader:\n",
    "            outputs = model(data)\n",
    "            _, predicted = torch.max(outputs, 1)\n",
    "            total += targets.size(0)\n",
    "            correct += (predicted == targets).sum().item()\n",
    "    return correct / total"
   ]
  },
  {
   "cell_type": "code",
   "execution_count": 29,
   "id": "23a0aa6f-8295-44b5-a422-7f742a5f7618",
   "metadata": {},
   "outputs": [
    {
     "name": "stdout",
     "output_type": "stream",
     "text": [
      "Epoch 1: Train Loss = 0.5873, Test Accuracy = 0.8444\n",
      "Epoch 2: Train Loss = 0.2598, Test Accuracy = 0.9111\n",
      "Epoch 3: Train Loss = 0.3777, Test Accuracy = 0.9556\n",
      "Epoch 4: Train Loss = 0.1623, Test Accuracy = 0.9778\n",
      "Epoch 5: Train Loss = 0.2404, Test Accuracy = 1.0000\n",
      "Epoch 6: Train Loss = 0.2139, Test Accuracy = 1.0000\n",
      "Epoch 7: Train Loss = 0.2108, Test Accuracy = 1.0000\n",
      "Epoch 8: Train Loss = 0.2228, Test Accuracy = 0.9556\n",
      "Epoch 9: Train Loss = 0.2916, Test Accuracy = 1.0000\n",
      "Epoch 10: Train Loss = 0.1647, Test Accuracy = 1.0000\n"
     ]
    }
   ],
   "source": [
    "# 训练和测试循环\n",
    "for epoch in range(10):\n",
    "    train_loss = train_epoch(model, train_loader, criterion, optimizer)\n",
    "    test_accuracy = evaluate(model, test_loader)\n",
    "    print(f\"Epoch {epoch+1}: Train Loss = {train_loss:.4f}, Test Accuracy = {test_accuracy:.4f}\")"
   ]
  },
  {
   "cell_type": "code",
   "execution_count": null,
   "id": "53415507-b43e-4453-a533-b14214fd5166",
   "metadata": {},
   "outputs": [],
   "source": []
  }
 ],
 "metadata": {
  "kernelspec": {
   "display_name": "Python 3 (ipykernel)",
   "language": "python",
   "name": "python3"
  },
  "language_info": {
   "codemirror_mode": {
    "name": "ipython",
    "version": 3
   },
   "file_extension": ".py",
   "mimetype": "text/x-python",
   "name": "python",
   "nbconvert_exporter": "python",
   "pygments_lexer": "ipython3",
   "version": "3.12.2"
  }
 },
 "nbformat": 4,
 "nbformat_minor": 5
}
