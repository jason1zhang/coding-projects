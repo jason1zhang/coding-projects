{
 "cells": [
  {
   "cell_type": "code",
   "execution_count": 2,
   "id": "c3e6df5b-7660-49cc-b9b2-5c0f7d996814",
   "metadata": {},
   "outputs": [],
   "source": [
    "import numpy as np\n",
    "import pandas as pd\n",
    "from sqlalchemy import create_engine, text\n",
    "from catboost import CatBoostClassifier\n",
    "from sklearn.model_selection import train_test_split\n",
    "from sklearn.metrics import accuracy_score, precision_score, recall_score, confusion_matrix, precision_recall_curve\n",
    "import matplotlib.pyplot as plt\n",
    "import seaborn as sns"
   ]
  },
  {
   "cell_type": "markdown",
   "id": "8c060c16-0bd3-42d4-a1d8-2ee54a36398e",
   "metadata": {},
   "source": [
    "# 1. Data preparation"
   ]
  },
  {
   "cell_type": "code",
   "execution_count": 3,
   "id": "eedce007-c24f-4134-875a-4066f3b2d793",
   "metadata": {},
   "outputs": [],
   "source": [
    "def generate_sample_csv(num_samples, num_features, output_file='./data/sample.csv'):\n",
    "    \"\"\"\n",
    "    生成包含随机特征和二分类目标标签的CSV文件，特征列名为'feature1'到'feature{num_features}'。\n",
    "\n",
    "    参数:\n",
    "    num_samples (int): 生成样本的数量。\n",
    "    num_features (int): 特征的数量。\n",
    "    output_file (str): 保存CSV文件的路径和文件名，默认为'sample.csv'。\n",
    "\n",
    "    返回:\n",
    "    None\n",
    "    \"\"\"\n",
    "    # 设置随机种子以复现结果\n",
    "    np.random.seed(42)\n",
    "\n",
    "    # 生成特征数据\n",
    "    features = np.random.rand(num_samples, num_features)\n",
    "\n",
    "    # 生成目标标签，0代表负类，1代表正类\n",
    "    targets = np.random.randint(0, 2, num_samples)\n",
    "\n",
    "    # 定义特征列名\n",
    "    feature_columns = [f'feature_{i+1}' for i in range(0, num_features)]\n",
    "\n",
    "    # 创建DataFrame，包含特征和目标列\n",
    "    df = pd.DataFrame(features, columns=feature_columns)\n",
    "    df['Target'] = targets\n",
    "\n",
    "    # 将DataFrame保存为CSV文件\n",
    "    df.to_csv(output_file, index=False)\n",
    "\n",
    "# 使用示例\n",
    "# generate_sample_csv(num_samples=1000, num_features=10)  # 生成1000个样本，每样本有10个特征的CSV文件"
   ]
  },
  {
   "cell_type": "code",
   "execution_count": 4,
   "id": "f8d882a6-560d-4102-94de-0a92d3f43ae1",
   "metadata": {},
   "outputs": [],
   "source": [
    "generate_sample_csv(num_samples=1000, num_features=10)  # 生成1000个样本的CSV文件"
   ]
  },
  {
   "cell_type": "markdown",
   "id": "8333e783-48cf-41bf-b416-09debedc5a5c",
   "metadata": {},
   "source": [
    "## get data from local csv file"
   ]
  },
  {
   "cell_type": "code",
   "execution_count": 5,
   "id": "9d61f9e5-2900-4b88-aeb8-2d64dacfa1d9",
   "metadata": {},
   "outputs": [],
   "source": [
    "data = pd.read_csv(\"./data/sample.csv\")"
   ]
  },
  {
   "cell_type": "code",
   "execution_count": 6,
   "id": "436d0e3c-3e3d-412b-9aab-4fdfcc9606dc",
   "metadata": {},
   "outputs": [
    {
     "data": {
      "text/html": [
       "<div>\n",
       "<style scoped>\n",
       "    .dataframe tbody tr th:only-of-type {\n",
       "        vertical-align: middle;\n",
       "    }\n",
       "\n",
       "    .dataframe tbody tr th {\n",
       "        vertical-align: top;\n",
       "    }\n",
       "\n",
       "    .dataframe thead th {\n",
       "        text-align: right;\n",
       "    }\n",
       "</style>\n",
       "<table border=\"1\" class=\"dataframe\">\n",
       "  <thead>\n",
       "    <tr style=\"text-align: right;\">\n",
       "      <th></th>\n",
       "      <th>feature_1</th>\n",
       "      <th>feature_2</th>\n",
       "      <th>feature_3</th>\n",
       "      <th>feature_4</th>\n",
       "      <th>feature_5</th>\n",
       "      <th>feature_6</th>\n",
       "      <th>feature_7</th>\n",
       "      <th>feature_8</th>\n",
       "      <th>feature_9</th>\n",
       "      <th>feature_10</th>\n",
       "      <th>Target</th>\n",
       "    </tr>\n",
       "  </thead>\n",
       "  <tbody>\n",
       "    <tr>\n",
       "      <th>0</th>\n",
       "      <td>0.374540</td>\n",
       "      <td>0.950714</td>\n",
       "      <td>0.731994</td>\n",
       "      <td>0.598658</td>\n",
       "      <td>0.156019</td>\n",
       "      <td>0.155995</td>\n",
       "      <td>0.058084</td>\n",
       "      <td>0.866176</td>\n",
       "      <td>0.601115</td>\n",
       "      <td>0.708073</td>\n",
       "      <td>0</td>\n",
       "    </tr>\n",
       "    <tr>\n",
       "      <th>1</th>\n",
       "      <td>0.020584</td>\n",
       "      <td>0.969910</td>\n",
       "      <td>0.832443</td>\n",
       "      <td>0.212339</td>\n",
       "      <td>0.181825</td>\n",
       "      <td>0.183405</td>\n",
       "      <td>0.304242</td>\n",
       "      <td>0.524756</td>\n",
       "      <td>0.431945</td>\n",
       "      <td>0.291229</td>\n",
       "      <td>1</td>\n",
       "    </tr>\n",
       "    <tr>\n",
       "      <th>2</th>\n",
       "      <td>0.611853</td>\n",
       "      <td>0.139494</td>\n",
       "      <td>0.292145</td>\n",
       "      <td>0.366362</td>\n",
       "      <td>0.456070</td>\n",
       "      <td>0.785176</td>\n",
       "      <td>0.199674</td>\n",
       "      <td>0.514234</td>\n",
       "      <td>0.592415</td>\n",
       "      <td>0.046450</td>\n",
       "      <td>1</td>\n",
       "    </tr>\n",
       "    <tr>\n",
       "      <th>3</th>\n",
       "      <td>0.607545</td>\n",
       "      <td>0.170524</td>\n",
       "      <td>0.065052</td>\n",
       "      <td>0.948886</td>\n",
       "      <td>0.965632</td>\n",
       "      <td>0.808397</td>\n",
       "      <td>0.304614</td>\n",
       "      <td>0.097672</td>\n",
       "      <td>0.684233</td>\n",
       "      <td>0.440152</td>\n",
       "      <td>1</td>\n",
       "    </tr>\n",
       "    <tr>\n",
       "      <th>4</th>\n",
       "      <td>0.122038</td>\n",
       "      <td>0.495177</td>\n",
       "      <td>0.034389</td>\n",
       "      <td>0.909320</td>\n",
       "      <td>0.258780</td>\n",
       "      <td>0.662522</td>\n",
       "      <td>0.311711</td>\n",
       "      <td>0.520068</td>\n",
       "      <td>0.546710</td>\n",
       "      <td>0.184854</td>\n",
       "      <td>0</td>\n",
       "    </tr>\n",
       "  </tbody>\n",
       "</table>\n",
       "</div>"
      ],
      "text/plain": [
       "   feature_1  feature_2  feature_3  feature_4  feature_5  feature_6  \\\n",
       "0   0.374540   0.950714   0.731994   0.598658   0.156019   0.155995   \n",
       "1   0.020584   0.969910   0.832443   0.212339   0.181825   0.183405   \n",
       "2   0.611853   0.139494   0.292145   0.366362   0.456070   0.785176   \n",
       "3   0.607545   0.170524   0.065052   0.948886   0.965632   0.808397   \n",
       "4   0.122038   0.495177   0.034389   0.909320   0.258780   0.662522   \n",
       "\n",
       "   feature_7  feature_8  feature_9  feature_10  Target  \n",
       "0   0.058084   0.866176   0.601115    0.708073       0  \n",
       "1   0.304242   0.524756   0.431945    0.291229       1  \n",
       "2   0.199674   0.514234   0.592415    0.046450       1  \n",
       "3   0.304614   0.097672   0.684233    0.440152       1  \n",
       "4   0.311711   0.520068   0.546710    0.184854       0  "
      ]
     },
     "execution_count": 6,
     "metadata": {},
     "output_type": "execute_result"
    }
   ],
   "source": [
    "data.head()"
   ]
  },
  {
   "cell_type": "code",
   "execution_count": 7,
   "id": "f990afe4-0496-45d9-b2ec-a0010202ba77",
   "metadata": {},
   "outputs": [],
   "source": [
    "# split the data into train, valuation and test sets\n",
    "def split_data(df, ratio1, ratio2):\n",
    "    train_data, rest_data = train_test_split(df, test_size=ratio1, random_state=32)\n",
    "    val_data, test_data = train_test_split(rest_data, test_size=ratio2, random_state=32)\n",
    "\n",
    "    return train_data, val_data, test_data"
   ]
  },
  {
   "cell_type": "code",
   "execution_count": 8,
   "id": "184ff5b5-548c-4bfa-9d97-97f9cd70969c",
   "metadata": {},
   "outputs": [],
   "source": [
    "ratio1 = 0.6\n",
    "ratio2 = 0.5\n",
    "train_data, val_data, test_data = split_data(data, ratio1, ratio2)"
   ]
  },
  {
   "cell_type": "code",
   "execution_count": 9,
   "id": "a37154e6-d79a-4abc-9b49-c9d348e7ed6c",
   "metadata": {},
   "outputs": [],
   "source": [
    "# split the data into features and labels\n",
    "X_train = train_data.drop(['Target'], axis=1)\n",
    "y_train = train_data['Target']\n",
    "\n",
    "X_val = val_data.drop(['Target'], axis=1)\n",
    "y_val = val_data['Target']\n",
    "\n",
    "X_test = test_data.drop(['Target'], axis=1)\n",
    "y_test = test_data['Target']"
   ]
  },
  {
   "cell_type": "code",
   "execution_count": 10,
   "id": "c192d30b-e2d2-4207-967c-f86fdaa464e0",
   "metadata": {},
   "outputs": [
    {
     "data": {
      "text/html": [
       "<div>\n",
       "<style scoped>\n",
       "    .dataframe tbody tr th:only-of-type {\n",
       "        vertical-align: middle;\n",
       "    }\n",
       "\n",
       "    .dataframe tbody tr th {\n",
       "        vertical-align: top;\n",
       "    }\n",
       "\n",
       "    .dataframe thead th {\n",
       "        text-align: right;\n",
       "    }\n",
       "</style>\n",
       "<table border=\"1\" class=\"dataframe\">\n",
       "  <thead>\n",
       "    <tr style=\"text-align: right;\">\n",
       "      <th></th>\n",
       "      <th>feature_1</th>\n",
       "      <th>feature_2</th>\n",
       "      <th>feature_3</th>\n",
       "      <th>feature_4</th>\n",
       "      <th>feature_5</th>\n",
       "      <th>feature_6</th>\n",
       "      <th>feature_7</th>\n",
       "      <th>feature_8</th>\n",
       "      <th>feature_9</th>\n",
       "      <th>feature_10</th>\n",
       "      <th>Target</th>\n",
       "    </tr>\n",
       "  </thead>\n",
       "  <tbody>\n",
       "    <tr>\n",
       "      <th>469</th>\n",
       "      <td>0.369136</td>\n",
       "      <td>0.357192</td>\n",
       "      <td>0.344092</td>\n",
       "      <td>0.520544</td>\n",
       "      <td>0.440665</td>\n",
       "      <td>0.879915</td>\n",
       "      <td>0.505521</td>\n",
       "      <td>0.507758</td>\n",
       "      <td>0.138372</td>\n",
       "      <td>0.982740</td>\n",
       "      <td>1</td>\n",
       "    </tr>\n",
       "    <tr>\n",
       "      <th>324</th>\n",
       "      <td>0.415775</td>\n",
       "      <td>0.428944</td>\n",
       "      <td>0.540905</td>\n",
       "      <td>0.696430</td>\n",
       "      <td>0.702146</td>\n",
       "      <td>0.171694</td>\n",
       "      <td>0.500113</td>\n",
       "      <td>0.411958</td>\n",
       "      <td>0.870527</td>\n",
       "      <td>0.631419</td>\n",
       "      <td>1</td>\n",
       "    </tr>\n",
       "    <tr>\n",
       "      <th>177</th>\n",
       "      <td>0.459447</td>\n",
       "      <td>0.785017</td>\n",
       "      <td>0.892085</td>\n",
       "      <td>0.955335</td>\n",
       "      <td>0.786903</td>\n",
       "      <td>0.315407</td>\n",
       "      <td>0.688135</td>\n",
       "      <td>0.437603</td>\n",
       "      <td>0.254671</td>\n",
       "      <td>0.840872</td>\n",
       "      <td>1</td>\n",
       "    </tr>\n",
       "    <tr>\n",
       "      <th>378</th>\n",
       "      <td>0.399519</td>\n",
       "      <td>0.326795</td>\n",
       "      <td>0.010811</td>\n",
       "      <td>0.826551</td>\n",
       "      <td>0.800981</td>\n",
       "      <td>0.104455</td>\n",
       "      <td>0.576857</td>\n",
       "      <td>0.463982</td>\n",
       "      <td>0.118709</td>\n",
       "      <td>0.980568</td>\n",
       "      <td>0</td>\n",
       "    </tr>\n",
       "    <tr>\n",
       "      <th>844</th>\n",
       "      <td>0.270058</td>\n",
       "      <td>0.206837</td>\n",
       "      <td>0.654023</td>\n",
       "      <td>0.416217</td>\n",
       "      <td>0.179659</td>\n",
       "      <td>0.689109</td>\n",
       "      <td>0.565072</td>\n",
       "      <td>0.858672</td>\n",
       "      <td>0.117476</td>\n",
       "      <td>0.785667</td>\n",
       "      <td>1</td>\n",
       "    </tr>\n",
       "  </tbody>\n",
       "</table>\n",
       "</div>"
      ],
      "text/plain": [
       "     feature_1  feature_2  feature_3  feature_4  feature_5  feature_6  \\\n",
       "469   0.369136   0.357192   0.344092   0.520544   0.440665   0.879915   \n",
       "324   0.415775   0.428944   0.540905   0.696430   0.702146   0.171694   \n",
       "177   0.459447   0.785017   0.892085   0.955335   0.786903   0.315407   \n",
       "378   0.399519   0.326795   0.010811   0.826551   0.800981   0.104455   \n",
       "844   0.270058   0.206837   0.654023   0.416217   0.179659   0.689109   \n",
       "\n",
       "     feature_7  feature_8  feature_9  feature_10  Target  \n",
       "469   0.505521   0.507758   0.138372    0.982740       1  \n",
       "324   0.500113   0.411958   0.870527    0.631419       1  \n",
       "177   0.688135   0.437603   0.254671    0.840872       1  \n",
       "378   0.576857   0.463982   0.118709    0.980568       0  \n",
       "844   0.565072   0.858672   0.117476    0.785667       1  "
      ]
     },
     "execution_count": 10,
     "metadata": {},
     "output_type": "execute_result"
    }
   ],
   "source": [
    "train_data.head()"
   ]
  },
  {
   "cell_type": "markdown",
   "id": "43658e0a-7b0e-4d5f-bbb0-96288e3b2ac6",
   "metadata": {},
   "source": [
    "# 2. Model building"
   ]
  },
  {
   "cell_type": "code",
   "execution_count": 11,
   "id": "0bb00bed-e4c4-48b4-aa86-82024776cd7c",
   "metadata": {},
   "outputs": [],
   "source": [
    "model = CatBoostClassifier(\n",
    "    loss_function='Logloss',\n",
    "    custom_loss=['Accuracy', 'F1', 'Precision', 'Recall'],\n",
    "    eval_metric='Accuracy',\n",
    "    auto_class_weights='Balanced',\n",
    "    iterations=1000,\n",
    "    depth=3,\n",
    "    l2_leaf_reg=3,\n",
    "    learning_rate=0.001,\n",
    "    random_state=32,\n",
    "    verbose=5000\n",
    ")"
   ]
  },
  {
   "cell_type": "code",
   "execution_count": 13,
   "id": "3ca832b6-75fe-4085-afd4-b421b293071c",
   "metadata": {},
   "outputs": [
    {
     "data": {
      "application/vnd.jupyter.widget-view+json": {
       "model_id": "ba6201d6c11249e68396321496295053",
       "version_major": 2,
       "version_minor": 0
      },
      "text/plain": [
       "MetricVisualizer(layout=Layout(align_self='stretch', height='500px'))"
      ]
     },
     "metadata": {},
     "output_type": "display_data"
    },
    {
     "name": "stdout",
     "output_type": "stream",
     "text": [
      "0:\tlearn: 0.5495800\ttest: 0.4716773\tbest: 0.4716773 (0)\ttotal: 143ms\tremaining: 2m 23s\n",
      "999:\tlearn: 0.7852785\ttest: 0.5199493\tbest: 0.5704897 (7)\ttotal: 4.18s\tremaining: 0us\n",
      "\n",
      "bestTest = 0.5704897256\n",
      "bestIteration = 7\n",
      "\n",
      "Shrink model to first 8 iterations.\n"
     ]
    },
    {
     "data": {
      "text/plain": [
       "<catboost.core.CatBoostClassifier at 0x18d50e99700>"
      ]
     },
     "execution_count": 13,
     "metadata": {},
     "output_type": "execute_result"
    }
   ],
   "source": [
    "model.fit(X_train, y_train,\n",
    "          eval_set=(X_val, y_val),\n",
    "          use_best_model=True,\n",
    "          plot=True\n",
    "         )"
   ]
  },
  {
   "cell_type": "markdown",
   "id": "8c83fcc7-1117-4103-98e0-d82dbdecd777",
   "metadata": {},
   "source": [
    "# 3. Save model"
   ]
  },
  {
   "cell_type": "code",
   "execution_count": 14,
   "id": "6662333c-5cfc-463f-a013-206c33585972",
   "metadata": {},
   "outputs": [],
   "source": [
    "model.save_model('demo_model.chm')\n",
    "model.save_model('demo_model.json', format='json')"
   ]
  },
  {
   "cell_type": "markdown",
   "id": "6d8b9185-bf42-4958-8e06-81b33c1128d6",
   "metadata": {},
   "source": [
    "# 4. Evaluation"
   ]
  },
  {
   "cell_type": "code",
   "execution_count": 15,
   "id": "b2adb79f-da73-43c5-972b-81766086e1b9",
   "metadata": {},
   "outputs": [
    {
     "name": "stdout",
     "output_type": "stream",
     "text": [
      "0.4304635761589404 0.48507462686567165 0.48333333333333334\n"
     ]
    }
   ],
   "source": [
    "y_pred = model.predict(X_test)\n",
    "recall = recall_score(y_test, y_pred)\n",
    "precision = precision_score(y_test, y_pred)\n",
    "accuracy = accuracy_score(y_test, y_pred)\n",
    "print(recall, precision, accuracy)"
   ]
  },
  {
   "cell_type": "code",
   "execution_count": 16,
   "id": "2bcefda9-ae2b-4351-924a-3d5374a694d5",
   "metadata": {},
   "outputs": [
    {
     "name": "stdout",
     "output_type": "stream",
     "text": [
      "[[80 69]\n",
      " [86 65]]\n"
     ]
    }
   ],
   "source": [
    "cm = confusion_matrix(y_test, y_pred)\n",
    "print(cm)"
   ]
  },
  {
   "cell_type": "code",
   "execution_count": 17,
   "id": "22621ab6-dd38-4acf-be02-02f4b2216c6c",
   "metadata": {},
   "outputs": [
    {
     "name": "stdout",
     "output_type": "stream",
     "text": [
      "0.4304635761589404 0.48507462686567165 0.48333333333333334\n"
     ]
    }
   ],
   "source": [
    "TN, FP, FN, TP = cm.ravel()\n",
    "recall = TP/(TP + FN)\n",
    "precision = TP/(TP + FP)\n",
    "accuracy = (TN + TP) / (TN + FP + FN + TP)\n",
    "print(recall, precision, accuracy)"
   ]
  },
  {
   "cell_type": "markdown",
   "id": "eb6b9d5d-932e-4cdd-a110-51a660212aab",
   "metadata": {},
   "source": [
    "# 5. Identify the False Negative data"
   ]
  },
  {
   "cell_type": "code",
   "execution_count": 18,
   "id": "aa3b736d-a0a8-4f0e-a5eb-bff945dfbad7",
   "metadata": {},
   "outputs": [],
   "source": [
    "FN_indices = np.where((y_pred == 0) & (y_test == 1))[0]\n",
    "FN_data = test_data.iloc[FN_indices]"
   ]
  },
  {
   "cell_type": "markdown",
   "id": "b691a4b5-8fa7-4761-aea5-ebb7bb6293a0",
   "metadata": {},
   "source": [
    "# 6. Draw P-R curve"
   ]
  },
  {
   "cell_type": "code",
   "execution_count": 19,
   "id": "1a7c06ed-6a20-4e93-b608-9ca745efe618",
   "metadata": {},
   "outputs": [],
   "source": [
    "train_probs = model.predict_proba(X_train)\n",
    "test_probs = model.predict_proba(X_test)\n",
    "\n",
    "train_probs_positive_class = train_probs[:, 1]\n",
    "test_probs_positive_class = test_probs[:, 1]\n",
    "\n",
    "train_precision, train_recall, _ = precision_recall_curve(y_train, train_probs_positive_class)\n",
    "test_precision, test_recall, _ = precision_recall_curve(y_test, test_probs_positive_class)"
   ]
  },
  {
   "cell_type": "code",
   "execution_count": 21,
   "id": "4288dbaf-55c1-4e09-8fbe-21fbe85d9717",
   "metadata": {},
   "outputs": [
    {
     "data": {
      "image/png": "[encoded data removed]",
      "text/plain": [
       "<Figure size 1000x600 with 1 Axes>"
      ]
     },
     "metadata": {},
     "output_type": "display_data"
    }
   ],
   "source": [
    "sns.set(style='darkgrid')\n",
    "plt.figure(figsize=(10, 6))\n",
    "\n",
    "plt.plot(train_recall, train_precision, label=\"Train PR Curve\", linewidth=2)\n",
    "plt.plot(test_recall, test_precision, label=\"Test PR Curve\", linewidth=2)\n",
    "\n",
    "plt.xlabel('Recall')\n",
    "plt.ylabel('Precision')\n",
    "plt.legend()\n",
    "plt.xlim([0.0, 1.0])\n",
    "plt.ylim([0.0, 1.0])\n",
    "plt.title('Precision-Recall Curve for Catboost classifier')\n",
    "plt.show()"
   ]
  },
  {
   "cell_type": "markdown",
   "id": "96b897e4-5c06-4d9a-a566-6a6b57ad5ce1",
   "metadata": {},
   "source": [
    "# 7. Feature importance"
   ]
  },
  {
   "cell_type": "code",
   "execution_count": 23,
   "id": "96cf2a24-04eb-4ce3-95ea-9c2efbcf7ee5",
   "metadata": {},
   "outputs": [
    {
     "data": {
      "image/png": "[encoded data removed]",
      "text/plain": [
       "<Figure size 1000x250 with 1 Axes>"
      ]
     },
     "metadata": {},
     "output_type": "display_data"
    }
   ],
   "source": [
    "importance = model.feature_importances_\n",
    "feature_importance_df = pd.DataFrame({'Feature': X_train.columns, 'Importance': importance})\n",
    "feature_importance_df = feature_importance_df.sort_values('Importance', ascending=False)\n",
    "\n",
    "top_n_features = 5\n",
    "top_feature_importance = feature_importance_df.head(top_n_features)\n",
    "\n",
    "plt.figure(figsize=(10, top_n_features * 0.5))\n",
    "plt.barh(top_feature_importance['Feature'], top_feature_importance['Importance'])\n",
    "plt.xlabel('Importance')\n",
    "plt.title(f'Top {top_n_features} Feature Importance')\n",
    "plt.tight_layout()\n",
    "plt.show()"
   ]
  },
  {
   "cell_type": "code",
   "execution_count": null,
   "id": "ab1e6f38-f992-483c-b855-b6d21fccaff7",
   "metadata": {},
   "outputs": [],
   "source": []
  }
 ],
 "metadata": {
  "kernelspec": {
   "display_name": "Python 3 (ipykernel)",
   "language": "python",
   "name": "python3"
  },
  "language_info": {
   "codemirror_mode": {
    "name": "ipython",
    "version": 3
   },
   "file_extension": ".py",
   "mimetype": "text/x-python",
   "name": "python",
   "nbconvert_exporter": "python",
   "pygments_lexer": "ipython3",
   "version": "3.12.2"
  }
 },
 "nbformat": 4,
 "nbformat_minor": 5
}
